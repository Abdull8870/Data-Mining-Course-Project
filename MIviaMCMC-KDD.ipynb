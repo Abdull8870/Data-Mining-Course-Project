{
 "cells": [
  {
   "cell_type": "code",
   "execution_count": 1,
   "id": "8051d013",
   "metadata": {},
   "outputs": [],
   "source": [
    "import matplotlib.pyplot as plt\n",
    "import pandas as pd\n",
    "import numpy as np\n",
    "import math\n",
    "import os \n",
    "import vaex as vx\n",
    "\n",
    "missingData=\"KDD/Incomplete Dataset/KDD_AE_1.csv\"\n",
    "originalData=\"KDD/KDD.csv\""
   ]
  },
  {
   "cell_type": "code",
   "execution_count": 2,
   "id": "390a824c",
   "metadata": {},
   "outputs": [],
   "source": [
    "# Getting the current working directory\n",
    "workingDirectory=os.getcwd()"
   ]
  },
  {
   "cell_type": "code",
   "execution_count": 3,
   "id": "17af9e75",
   "metadata": {},
   "outputs": [],
   "source": [
    "# Creating the path for output file\n",
    "outputFileName=missingData.split('/')[-1]\n",
    "imputedFile=workingDirectory+'\\\\'+outputFileName"
   ]
  },
  {
   "cell_type": "markdown",
   "id": "45217435",
   "metadata": {},
   "source": [
    "## Calculating the Probality density of the sample"
   ]
  },
  {
   "cell_type": "code",
   "execution_count": 4,
   "id": "65c0dd34",
   "metadata": {},
   "outputs": [],
   "source": [
    "def normalProbablityDensity(x,mu,sigma):\n",
    "    deno=sigma*np.sqrt(2*np.pi)\n",
    "    try:\n",
    "        num=np.exp((-1/2)*((x-mu)/sigma)**2)\n",
    "        pdf=num/deno\n",
    "    except ZeroDivisionError:\n",
    "        pdf=0\n",
    "    return pdf"
   ]
  },
  {
   "cell_type": "markdown",
   "id": "2bf89ea5",
   "metadata": {},
   "source": [
    "## Accepting and Rejecting the Sample"
   ]
  },
  {
   "cell_type": "code",
   "execution_count": 5,
   "id": "e6872070",
   "metadata": {},
   "outputs": [],
   "source": [
    "##Desiding whether to accept the sample or reject\n",
    "def isAccept(x,prevX,mu,sigma):\n",
    "    newSample=normalProbablityDensity(x,mu,sigma)\n",
    "    previousSample=normalProbablityDensity(prevX,mu,sigma)\n",
    "    try:\n",
    "        p=newSample/previousSample\n",
    "    except ZeroDivisionError:\n",
    "        p=0\n",
    "    U=np.random.uniform(0,1)\n",
    "    acceptance=min(1,p)\n",
    "    if acceptance>U:\n",
    "        return True\n",
    "    else:\n",
    "        return False"
   ]
  },
  {
   "cell_type": "code",
   "execution_count": 6,
   "id": "504b20a8",
   "metadata": {},
   "outputs": [],
   "source": [
    "def getMean(column):\n",
    "    return pd.Series(column).mean()"
   ]
  },
  {
   "cell_type": "code",
   "execution_count": 7,
   "id": "b9370240",
   "metadata": {},
   "outputs": [],
   "source": [
    "def getCategoricalAndNumericalColumnList(df):\n",
    "#     Creating a dataframe which contains only categorical values\n",
    "# Initialise dataframe\n",
    "    catagoricalDataFrame=pd.DataFrame()\n",
    "    numericalDataFrame=pd.DataFrame()\n",
    "    for index,column in enumerate(df.columns):\n",
    "        if df[column].dtypes==object:\n",
    "            catagoricalDataFrame[index]=df[column]\n",
    "        else:\n",
    "            numericalDataFrame[index]=df[column]\n",
    "    return catagoricalDataFrame,numericalDataFrame"
   ]
  },
  {
   "cell_type": "code",
   "execution_count": 8,
   "id": "42990119",
   "metadata": {},
   "outputs": [],
   "source": [
    "def imputeCategoricalColumns(df):\n",
    "    for index,column in enumerate(df.columns):\n",
    "        if df[column].dtype==object:\n",
    "            mode=df[column].mode()\n",
    "            df[column]=df[column].fillna(mode[0])\n",
    "    return df"
   ]
  },
  {
   "cell_type": "code",
   "execution_count": 9,
   "id": "3a7ea361",
   "metadata": {},
   "outputs": [],
   "source": [
    "def calculateAE(catDataFrmOriginalSet,catDataFrmImputedSet):\n",
    "    comparedCatDF=(catDataFrmOriginalSet==catDataFrmImputedSet).replace({True:1,False:0})\n",
    "    sumOfAllValues=comparedCatDF.values.sum()\n",
    "    nValues=comparedCatDF.count().sum()\n",
    "    sumOfAllValues,nValues\n",
    "    AE=round(sumOfAllValues/nValues,4)\n",
    "    return AE"
   ]
  },
  {
   "cell_type": "code",
   "execution_count": 10,
   "id": "c66eae9e",
   "metadata": {},
   "outputs": [],
   "source": [
    "def calculateNrms(estimate,original):\n",
    "    numeratorDF=estimate-original\n",
    "    numeratorDF=numeratorDF**2\n",
    "    denomintorDF=original**2\n",
    "    numerator=math.sqrt(numeratorDF.sum())\n",
    "    denominator=math.sqrt(denomintorDF.sum())\n",
    "    nrms=numerator/denominator\n",
    "    return nrms"
   ]
  },
  {
   "cell_type": "code",
   "execution_count": 11,
   "id": "609879e9",
   "metadata": {},
   "outputs": [],
   "source": [
    "# Calculate Intial Posterior distribution parameters\n",
    "def calculatePosterior(missingValueDf):\n",
    "    paramtersMap={}\n",
    "    samples={}\n",
    "    for index,column in enumerate(missingValueDf.columns):\n",
    "        if missingValueDf[column].dtypes==object:\n",
    "            continue\n",
    "        mean=missingValueDf[column].mean()\n",
    "        std=missingValueDf[column].std()\n",
    "        maxValue=missingValueDf[column].min()\n",
    "        minValue=missingValueDf[column].max()\n",
    "        minmax=[minValue,maxValue]\n",
    "        pair=[mean,std,minmax]\n",
    "        paramtersMap[column]=pair\n",
    "        samples[column]=[mean]\n",
    "    return paramtersMap,samples"
   ]
  },
  {
   "cell_type": "code",
   "execution_count": 12,
   "id": "b0e67170",
   "metadata": {},
   "outputs": [],
   "source": [
    "def isDataSetContainingCategoricalValues(df):\n",
    "    isContainingCategorical=False\n",
    "    for index in missingValueDf.columns:\n",
    "        if missingValueDf[index].dtype==object:\n",
    "            isContainingCategorical=True\n",
    "            return True\n",
    "    return False    "
   ]
  },
  {
   "cell_type": "code",
   "execution_count": 13,
   "id": "f471a565",
   "metadata": {},
   "outputs": [],
   "source": [
    "def saveDataNoCat(df,file):\n",
    "    df.to_csv(file,index=False)"
   ]
  },
  {
   "cell_type": "code",
   "execution_count": 14,
   "id": "7f568206",
   "metadata": {},
   "outputs": [],
   "source": [
    "def saveDataWithCat(df,catDf,file):\n",
    "    for index,column in enumerate(catDf.columns):\n",
    "        df[column]=catDf[column]\n",
    "    df.to_csv(file,index=False)"
   ]
  },
  {
   "cell_type": "markdown",
   "id": "17b96e8e",
   "metadata": {},
   "source": [
    "### Markov chain and Monte Carlo Simulation"
   ]
  },
  {
   "cell_type": "code",
   "execution_count": 15,
   "id": "5b0a7738",
   "metadata": {},
   "outputs": [],
   "source": [
    "def MCMCSampling(missingValueDf,numberOfSamples,paramtersMap,samples):\n",
    "    for i in range(numberOfSamples):\n",
    "        for index,column in enumerate(missingValueDf.columns):\n",
    "            columnValues=missingValueDf[column].to_list()\n",
    "            if missingValueDf[column].dtypes==object:\n",
    "                continue\n",
    "            else:\n",
    "                pbDistribution=paramtersMap[column]\n",
    "                mean=pbDistribution[0]\n",
    "                std=pbDistribution[1]\n",
    "                currentSample=samples[column][-1]\n",
    "                drawRandomValue=np.random.normal(currentSample,std)\n",
    "                isAccepeted=isAccept(drawRandomValue,currentSample,mean,std)\n",
    "                if isAccepeted:\n",
    "                    randomSample=drawRandomValue\n",
    "                    samples[column].append(randomSample)\n",
    "                else:\n",
    "                    continue\n",
    "    print(\"Simulation Done\") \n",
    "    return paramtersMap,samples"
   ]
  },
  {
   "cell_type": "markdown",
   "id": "f837d278",
   "metadata": {},
   "source": [
    "## Final Imputation"
   ]
  },
  {
   "cell_type": "code",
   "execution_count": 16,
   "id": "14f77aa7",
   "metadata": {},
   "outputs": [],
   "source": [
    "def finalImputation(originalDataWithMissingValues,samples):\n",
    "    for index,column in enumerate(originalDataWithMissingValues.columns):\n",
    "        if originalDataWithMissingValues[column].dtypes==object:\n",
    "            continue\n",
    "        totalSamples=pd.Series(samples[column][200:])\n",
    "        if pd.isna(totalSamples.mean()):\n",
    "            mu=0\n",
    "        else:\n",
    "            mu=round(totalSamples.mean(),1)\n",
    "            if originalDataWithMissingValues[column].dtypes==\"int64\":\n",
    "                mu=round(mu)\n",
    "        colValue=originalDataWithMissingValues[column].to_list()\n",
    "        for i in range(len(colValue)):\n",
    "            isNan=pd.isna(colValue[i])\n",
    "            if isNan:\n",
    "                colValue[i]=mu\n",
    "            else:\n",
    "                continue\n",
    "        originalDataWithMissingValues[column]=pd.Series(colValue)    \n",
    "    return originalDataWithMissingValues"
   ]
  },
  {
   "cell_type": "markdown",
   "id": "9b5a4662",
   "metadata": {},
   "source": [
    "## Main script"
   ]
  },
  {
   "cell_type": "code",
   "execution_count": 17,
   "id": "71f25a37",
   "metadata": {},
   "outputs": [
    {
     "name": "stdout",
     "output_type": "stream",
     "text": [
      "done\n",
      "Simulation Done\n"
     ]
    },
    {
     "name": "stderr",
     "output_type": "stream",
     "text": [
      "C:\\Users\\abdul\\AppData\\Local\\Temp/ipykernel_7328/3757735802.py:5: DeprecationWarning: The default dtype for empty Series will be 'object' instead of 'float64' in a future version. Specify a dtype explicitly to silence this warning.\n",
      "  totalSamples=pd.Series(samples[column][200:])\n"
     ]
    },
    {
     "name": "stdout",
     "output_type": "stream",
     "text": [
      "2 done\n",
      "3 done\n",
      "The AE value for the given data set is 0.9968\n",
      "The NRMS value for the given data set is 0.0\n",
      "The Output file is generate in the following path\n",
      "C:\\Users\\abdul\\KDD_AE_1.csv\n"
     ]
    }
   ],
   "source": [
    "missingValVx=vx.from_csv(missingData,convert=True,header=None)     \n",
    "missingValueDf=missingValVx.to_pandas_df(index_name=None)  \n",
    "print('done')\n",
    "# missingValueDf=pd.read_excel(missingData,header=None)\n",
    "datawithMissingValue=missingValueDf.copy(deep=True)\n",
    "originalDataWithMissingValues=missingValueDf.copy(deep=True)\n",
    "\n",
    "isContainingCategorical=isDataSetContainingCategoricalValues(missingValueDf)        \n",
    "paramtersMap,samples=calculatePosterior(missingValueDf)     \n",
    "\n",
    "numberOfSamples=100\n",
    "paramtersMap,samples=MCMCSampling(missingValueDf,\n",
    "                                  numberOfSamples,paramtersMap,samples)\n",
    "originalDataWithMissingValues=finalImputation(originalDataWithMissingValues,samples)\n",
    "oriDF=vx.from_csv(originalData,convert=True,header=None)\n",
    "original=oriDF.to_pandas_df(index_name=None)\n",
    "if isContainingCategorical:\n",
    "    imputedCatDF,imputedNumbericalDF=getCategoricalAndNumericalColumnList(originalDataWithMissingValues)\n",
    "    catDataFrmOriginalSet,originalNumbericalDF=getCategoricalAndNumericalColumnList(original)\n",
    "    catDataFrmImputedSet=pd.DataFrame(imputeCategoricalColumns(imputedCatDF))\n",
    "else:\n",
    "    imputedNumbericalDF=originalDataWithMissingValues\n",
    "    originalNumbericalDF=original    \n",
    "    \n",
    "if isContainingCategorical:\n",
    "    AE=calculateAE(catDataFrmOriginalSet,catDataFrmImputedSet)\n",
    "    print(f'The AE value for the given data set is {AE}')\n",
    "    saveDataWithCat(originalDataWithMissingValues,catDataFrmImputedSet,imputedFile)\n",
    "else:\n",
    "    print(f'There\\'s no catagorical data present in the dataset') \n",
    "    saveDataNoCat(originalDataWithMissingValues,imputedFile)\n",
    "\n",
    "original=originalNumbericalDF.values\n",
    "imputed=imputedNumbericalDF.values\n",
    "nrms=round(calculateNrms(imputed,original),2)\n",
    "print(f'The NRMS value for the given data set is {nrms}')\n",
    "print('The Output file is generate in the following path')\n",
    "print(imputedFile)"
   ]
  }
 ],
 "metadata": {
  "kernelspec": {
   "display_name": "Python 3 (ipykernel)",
   "language": "python",
   "name": "python3"
  },
  "language_info": {
   "codemirror_mode": {
    "name": "ipython",
    "version": 3
   },
   "file_extension": ".py",
   "mimetype": "text/x-python",
   "name": "python",
   "nbconvert_exporter": "python",
   "pygments_lexer": "ipython3",
   "version": "3.9.7"
  }
 },
 "nbformat": 4,
 "nbformat_minor": 5
}
