{
 "cells": [
  {
   "cell_type": "code",
   "execution_count": 62,
   "id": "8051d013",
   "metadata": {
    "colab": {
     "base_uri": "https://localhost:8080/"
    },
    "id": "8051d013",
    "outputId": "2edada32-d7f2-48a2-b243-eb14cdc3346e"
   },
   "outputs": [
    {
     "name": "stdout",
     "output_type": "stream",
     "text": [
      "Drive already mounted at /content/drive; to attempt to forcibly remount, call drive.mount(\"/content/drive\", force_remount=True).\n"
     ]
    }
   ],
   "source": [
    "import matplotlib.pyplot as plt\n",
    "import pandas as pd\n",
    "import numpy as np\n",
    "import math\n",
    "import os \n",
    "from google.colab import drive\n",
    "\n",
    "drive.mount('/content/drive')\n",
    "\n",
    "missingData=\"./drive/MyDrive/dataset/Iris_AE_1.xlsx\"\n",
    "originalData=\"./drive/MyDrive/dataset/Iris.xlsx\""
   ]
  },
  {
   "cell_type": "code",
   "execution_count": 63,
   "id": "161b0b87",
   "metadata": {
    "id": "161b0b87"
   },
   "outputs": [],
   "source": [
    "# Getting the current working directory\n",
    "# workingDirectory=os.getcwd()\n",
    "impute='./drive/MyDrive/'"
   ]
  },
  {
   "cell_type": "code",
   "execution_count": 81,
   "id": "17af9e75",
   "metadata": {
    "id": "17af9e75"
   },
   "outputs": [],
   "source": [
    "# Creating the path for output file\n",
    "outputFileName=missingData.split('/')[-1]\n",
    "imputedFile=impute+'/'+outputFileName"
   ]
  },
  {
   "cell_type": "markdown",
   "id": "4e1a2da5",
   "metadata": {
    "id": "4e1a2da5"
   },
   "source": [
    "## Calculating the Probality density of the sample"
   ]
  },
  {
   "cell_type": "code",
   "execution_count": 65,
   "id": "65c0dd34",
   "metadata": {
    "id": "65c0dd34"
   },
   "outputs": [],
   "source": [
    "def normalProbablityDensity(x,mu,sigma):\n",
    "    deno=sigma*np.sqrt(2*np.pi)\n",
    "    try:\n",
    "        num=np.exp((-1/2)*((x-mu)/sigma)**2)\n",
    "        pdf=num/deno\n",
    "    except ZeroDivisionError:\n",
    "        pdf=0\n",
    "    return pdf"
   ]
  },
  {
   "cell_type": "markdown",
   "id": "322dd1a3",
   "metadata": {
    "id": "322dd1a3"
   },
   "source": [
    "## Accepting and Rejecting the Sample"
   ]
  },
  {
   "cell_type": "code",
   "execution_count": 66,
   "id": "e6872070",
   "metadata": {
    "id": "e6872070"
   },
   "outputs": [],
   "source": [
    "##Desiding whether to accept the sample or reject\n",
    "def isAccept(x,prevX,mu,sigma):\n",
    "    newSample=normalProbablityDensity(x,mu,sigma)\n",
    "    previousSample=normalProbablityDensity(prevX,mu,sigma)\n",
    "    try:\n",
    "        p=newSample/previousSample\n",
    "    except ZeroDivisionError:\n",
    "        p=0\n",
    "    U=np.random.uniform(0,1)\n",
    "    acceptance=min(1,p)\n",
    "    if acceptance>U:\n",
    "        return True\n",
    "    else:\n",
    "        return False"
   ]
  },
  {
   "cell_type": "code",
   "execution_count": 67,
   "id": "504b20a8",
   "metadata": {
    "id": "504b20a8"
   },
   "outputs": [],
   "source": [
    "def getMean(column):\n",
    "    return pd.Series(column).mean()"
   ]
  },
  {
   "cell_type": "code",
   "execution_count": 68,
   "id": "b9370240",
   "metadata": {
    "id": "b9370240"
   },
   "outputs": [],
   "source": [
    "def getCategoricalAndNumericalColumnList(df):\n",
    "#     Creating a dataframe which contains only categorical values\n",
    "# Initialise dataframe\n",
    "    catagoricalDataFrame=pd.DataFrame()\n",
    "    numericalDataFrame=pd.DataFrame()\n",
    "    for index,column in enumerate(df.columns):\n",
    "        if df[column].dtypes==object:\n",
    "            catagoricalDataFrame[index]=df[column]\n",
    "        else:\n",
    "            numericalDataFrame[index]=df[column]\n",
    "    return catagoricalDataFrame,numericalDataFrame"
   ]
  },
  {
   "cell_type": "code",
   "execution_count": 69,
   "id": "42990119",
   "metadata": {
    "id": "42990119"
   },
   "outputs": [],
   "source": [
    "def imputeCategoricalColumns(df):\n",
    "    for index,column in enumerate(df.columns):\n",
    "        if df[column].dtype==object:\n",
    "            mode=df[column].mode()\n",
    "            df[column]=df[column].fillna(mode[0])\n",
    "    return df"
   ]
  },
  {
   "cell_type": "code",
   "execution_count": 70,
   "id": "3a7ea361",
   "metadata": {
    "id": "3a7ea361"
   },
   "outputs": [],
   "source": [
    "def calculateAE(catDataFrmOriginalSet,catDataFrmImputedSet):\n",
    "    comparedCatDF=(catDataFrmOriginalSet==catDataFrmImputedSet).replace({True:1,False:0})\n",
    "    sumOfAllValues=comparedCatDF.values.sum()\n",
    "    nValues=comparedCatDF.count().sum()\n",
    "    sumOfAllValues,nValues\n",
    "    AE=round(sumOfAllValues/nValues,4)\n",
    "    return AE"
   ]
  },
  {
   "cell_type": "code",
   "execution_count": 71,
   "id": "c66eae9e",
   "metadata": {
    "id": "c66eae9e"
   },
   "outputs": [],
   "source": [
    "def calculateNrms(estimate,original):\n",
    "    numeratorDF=estimate-original\n",
    "    numeratorDF=numeratorDF**2\n",
    "    denomintorDF=original**2\n",
    "    numerator=math.sqrt(numeratorDF.sum())\n",
    "    denominator=math.sqrt(denomintorDF.sum())\n",
    "    nrms=numerator/denominator\n",
    "    return nrms"
   ]
  },
  {
   "cell_type": "code",
   "execution_count": 72,
   "id": "609879e9",
   "metadata": {
    "id": "609879e9"
   },
   "outputs": [],
   "source": [
    "# Calculate Intial Posterior distribution parameters\n",
    "def calculatePosterior(missingValueDf):\n",
    "    paramtersMap={}\n",
    "    samples={}\n",
    "    for index,column in enumerate(missingValueDf.columns):\n",
    "        if missingValueDf[column].dtypes==object:\n",
    "            continue\n",
    "        mean=missingValueDf[column].mean()\n",
    "        std=missingValueDf[column].std()\n",
    "        maxValue=missingValueDf[column].min()\n",
    "        minValue=missingValueDf[column].max()\n",
    "        minmax=[minValue,maxValue]\n",
    "        pair=[mean,std,minmax]\n",
    "        paramtersMap[column]=pair\n",
    "        samples[column]=[mean]\n",
    "    return paramtersMap,samples"
   ]
  },
  {
   "cell_type": "code",
   "execution_count": 73,
   "id": "b0e67170",
   "metadata": {
    "id": "b0e67170"
   },
   "outputs": [],
   "source": [
    "def isDataSetContainingCategoricalValues(df):\n",
    "    isContainingCategorical=False\n",
    "    for index in missingValueDf.columns:\n",
    "        if missingValueDf[index].dtype==object:\n",
    "            isContainingCategorical=True\n",
    "            return True\n",
    "    return False    "
   ]
  },
  {
   "cell_type": "code",
   "execution_count": 74,
   "id": "f471a565",
   "metadata": {
    "id": "f471a565"
   },
   "outputs": [],
   "source": [
    "def saveDataNoCat(df,file):\n",
    "    df.to_excel(file,index=False)"
   ]
  },
  {
   "cell_type": "code",
   "execution_count": 75,
   "id": "7f568206",
   "metadata": {
    "id": "7f568206"
   },
   "outputs": [],
   "source": [
    "def saveDataWithCat(df,catDf,file):\n",
    "    for index,column in enumerate(catDf.columns):\n",
    "        df[column]=catDf[column]\n",
    "    df.to_excel(file,index=False)"
   ]
  },
  {
   "cell_type": "markdown",
   "id": "b4d10a9c",
   "metadata": {
    "id": "b4d10a9c"
   },
   "source": [
    "### Markov chain and Monte Carlo Simulation"
   ]
  },
  {
   "cell_type": "code",
   "execution_count": 76,
   "id": "5b0a7738",
   "metadata": {
    "id": "5b0a7738"
   },
   "outputs": [],
   "source": [
    "def MCMCSampling(missingValueDf,numberOfSamples,paramtersMap,samples):\n",
    "    for i in range(numberOfSamples):\n",
    "        for index,column in enumerate(missingValueDf.columns):\n",
    "            columnValues=missingValueDf[column].to_list()\n",
    "            if missingValueDf[column].dtypes==object:\n",
    "                continue\n",
    "            else:\n",
    "                pbDistribution=paramtersMap[column]\n",
    "                mean=pbDistribution[0]\n",
    "                std=pbDistribution[1]\n",
    "                currentSample=samples[column][-1]\n",
    "                drawRandomValue=np.random.normal(currentSample,std)\n",
    "                isAccepeted=isAccept(drawRandomValue,currentSample,mean,std)\n",
    "                if isAccepeted:\n",
    "                    randomSample=drawRandomValue\n",
    "                    samples[column].append(randomSample)\n",
    "                    for i in range(len(columnValues)):\n",
    "                        isNa=pd.isna(columnValues[i])\n",
    "                        if isNa:\n",
    "                            columnValues[i]=randomSample\n",
    "                else:\n",
    "                    continue\n",
    "    print(\"Simulation Done\") \n",
    "    return paramtersMap,samples"
   ]
  },
  {
   "cell_type": "markdown",
   "id": "199bade7",
   "metadata": {
    "id": "199bade7"
   },
   "source": [
    "## Final Imputation"
   ]
  },
  {
   "cell_type": "code",
   "execution_count": 77,
   "id": "14f77aa7",
   "metadata": {
    "id": "14f77aa7"
   },
   "outputs": [],
   "source": [
    "def finalImputation(originalDataWithMissingValues,samples):\n",
    "    for index,column in enumerate(originalDataWithMissingValues.columns):\n",
    "        if originalDataWithMissingValues[column].dtypes==object:\n",
    "            continue\n",
    "        totalSamples=pd.Series(samples[column][200:])\n",
    "        mu=round(totalSamples.mean(),1)\n",
    "        if originalDataWithMissingValues[column].dtypes==\"int64\":\n",
    "            mu=round(mu)\n",
    "        colValue=originalDataWithMissingValues[column].to_list()\n",
    "        for i in range(len(colValue)):\n",
    "            isNan=pd.isna(colValue[i])\n",
    "            if isNan:\n",
    "                colValue[i]=mu\n",
    "            else:\n",
    "                continue\n",
    "        originalDataWithMissingValues[column]=pd.Series(colValue)    \n",
    "    return originalDataWithMissingValues"
   ]
  },
  {
   "cell_type": "markdown",
   "id": "d31a5ea9",
   "metadata": {
    "id": "d31a5ea9"
   },
   "source": [
    "## Main script"
   ]
  },
  {
   "cell_type": "code",
   "execution_count": 78,
   "id": "71f25a37",
   "metadata": {
    "colab": {
     "base_uri": "https://localhost:8080/"
    },
    "id": "71f25a37",
    "outputId": "e71728e8-a891-4259-ac1e-2bf874520776"
   },
   "outputs": [
    {
     "name": "stdout",
     "output_type": "stream",
     "text": [
      "Simulation Done\n",
      "There's no catagorical data present in the dataset\n",
      "The NRMS value for the given data set is 0.02\n",
      "The Output file is generate in the following path\n",
      "./drive/MyDrive//Iris_AE_1.xlsx\n"
     ]
    }
   ],
   "source": [
    "missingValueDf=pd.read_excel(missingData,header=None)\n",
    "datawithMissingValue=missingValueDf.copy(deep=True)\n",
    "originalDataWithMissingValues=missingValueDf.copy(deep=True)\n",
    "\n",
    "isContainingCategorical=isDataSetContainingCategoricalValues(missingValueDf)        \n",
    "paramtersMap,samples=calculatePosterior(missingValueDf)     \n",
    "\n",
    "numberOfSamples=1000\n",
    "paramtersMap,samples=MCMCSampling(missingValueDf,\n",
    "                                  numberOfSamples,paramtersMap,samples)\n",
    "originalDataWithMissingValues=finalImputation(originalDataWithMissingValues,samples)\n",
    "\n",
    "original=pd.read_excel(originalData,header=None)\n",
    "if isContainingCategorical:\n",
    "    imputedCatDF,imputedNumbericalDF=getCategoricalAndNumericalColumnList(originalDataWithMissingValues)\n",
    "    catDataFrmOriginalSet,originalNumbericalDF=getCategoricalAndNumericalColumnList(original)\n",
    "    catDataFrmImputedSet=pd.DataFrame(imputeCategoricalColumns(imputedCatDF))\n",
    "#     catDataFrmOriginalSet=pd.DataFrame(imputeCategoricalColumns(catDataFrmOriginalSet))\n",
    "else:\n",
    "    imputedNumbericalDF=originalDataWithMissingValues\n",
    "    originalNumbericalDF=original    \n",
    "    \n",
    "if isContainingCategorical:\n",
    "    AE=calculateAE(catDataFrmOriginalSet,catDataFrmImputedSet)\n",
    "    print(f'The AE value for the given data set is {AE}')\n",
    "    saveDataWithCat(originalDataWithMissingValues,catDataFrmImputedSet,imputedFile)\n",
    "else:\n",
    "    print(f'There\\'s no catagorical data present in the dataset') \n",
    "    saveDataNoCat(originalDataWithMissingValues,imputedFile)\n",
    "\n",
    "original=originalNumbericalDF.values\n",
    "imputed=imputedNumbericalDF.values\n",
    "nrms=round(calculateNrms(imputed,original),2)\n",
    "print(f'The NRMS value for the given data set is {nrms}')\n",
    "print('The Output file is generate in the following path')\n",
    "print(imputedFile)"
   ]
  }
 ],
 "metadata": {
  "colab": {
   "name": "MIviaMCMC-v2.ipynb",
   "provenance": []
  },
  "kernelspec": {
   "display_name": "Python 3 (ipykernel)",
   "language": "python",
   "name": "python3"
  },
  "language_info": {
   "codemirror_mode": {
    "name": "ipython",
    "version": 3
   },
   "file_extension": ".py",
   "mimetype": "text/x-python",
   "name": "python",
   "nbconvert_exporter": "python",
   "pygments_lexer": "ipython3",
   "version": "3.9.7"
  }
 },
 "nbformat": 4,
 "nbformat_minor": 5
}
